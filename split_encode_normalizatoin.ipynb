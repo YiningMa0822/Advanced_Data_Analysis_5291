{
 "cells": [
  {
   "cell_type": "markdown",
   "metadata": {},
   "source": [
    "# 5291 Project\n",
    "\n",
    "### Data Preprocessing"
   ]
  },
  {
   "cell_type": "code",
   "execution_count": 1,
   "metadata": {},
   "outputs": [],
   "source": [
    "# import packages\n",
    "import os\n",
    "import numpy as np\n",
    "import pandas as pd\n",
    "from sklearn.model_selection import train_test_split\n",
    "from sklearn.preprocessing import StandardScaler\n",
    "from sklearn.preprocessing import OneHotEncoder"
   ]
  },
  {
   "cell_type": "code",
   "execution_count": 2,
   "metadata": {},
   "outputs": [],
   "source": [
    "# load data\n",
    "os.chdir('C://Users//Mayin//Documents//1GRADUATE//1. Study//2. 24Spring//5291 Aadvanced Statistical Analysis//5291 Project//')\n",
    "data = pd.read_csv('parkinsons_updrs.csv')\n",
    "y = data[['total_UPDRS', 'motor_UPDRS']]\n",
    "X = data.drop(['total_UPDRS', 'motor_UPDRS'], axis=1)\n",
    "\n",
    "X_cols = X.columns\n",
    "y_cols = y.columns"
   ]
  },
  {
   "cell_type": "code",
   "execution_count": 3,
   "metadata": {},
   "outputs": [],
   "source": [
    "# train test split\n",
    "X_train, X_test, y_train, y_test = train_test_split(X, y, test_size=0.2, random_state=5291)"
   ]
  },
  {
   "cell_type": "code",
   "execution_count": 9,
   "metadata": {},
   "outputs": [],
   "source": [
    "# standardize data\n",
    "## for X\n",
    "scaler_x = StandardScaler()\n",
    "X_train_scale = pd.DataFrame(scaler_x.fit_transform(X_train), columns=X_cols)\n",
    "X_test_scale = pd.DataFrame(scaler_x.transform(X_test), columns=X_cols)\n",
    "\n",
    "# for y\n",
    "scaler_y = StandardScaler()\n",
    "y_train_scale = pd.DataFrame(scaler_y.fit_transform(y_train), columns=y_cols)\n",
    "y_test_scale = pd.DataFrame(scaler_y.transform(y_test), columns=y_cols)"
   ]
  },
  {
   "cell_type": "code",
   "execution_count": 12,
   "metadata": {},
   "outputs": [],
   "source": [
    "# recover 'subject#' and 'sex' columns\n",
    "X_train_scale[['subject#', 'sex']] = X_train[['subject#', 'sex']].values\n",
    "X_test_scale[['subject#', 'sex']] = X_test[['subject#', 'sex']].values"
   ]
  },
  {
   "cell_type": "code",
   "execution_count": 14,
   "metadata": {},
   "outputs": [],
   "source": [
    "X_train_scale.to_csv('x_train_scale.csv', index=False)\n",
    "X_test_scale.to_csv('x_test_scale.csv', index=False)\n",
    "y_train_scale.to_csv('y_train_scale.csv', index=False)\n",
    "y_test_scale.to_csv('y_test_scale.csv', index=False)"
   ]
  },
  {
   "cell_type": "code",
   "execution_count": null,
   "metadata": {},
   "outputs": [],
   "source": [
    "# encoding for 'sex' column\n",
    "# from sklearn.preprocessing import OneHotEncoder\n",
    "# use the same encoder for both train and test set\n",
    "encoder = OneHotEncoder(sparse=False)\n",
    "encoded_train = pd.DataFrame(encoder.fit_transform(X_train[['sex']]))\n",
    "encoded_test = pd.DataFrame(encoder.transform(X_test[['sex']]))"
   ]
  }
 ],
 "metadata": {
  "kernelspec": {
   "display_name": "Python 3",
   "language": "python",
   "name": "python3"
  },
  "language_info": {
   "codemirror_mode": {
    "name": "ipython",
    "version": 3
   },
   "file_extension": ".py",
   "mimetype": "text/x-python",
   "name": "python",
   "nbconvert_exporter": "python",
   "pygments_lexer": "ipython3",
   "version": "3.9.6"
  }
 },
 "nbformat": 4,
 "nbformat_minor": 2
}
