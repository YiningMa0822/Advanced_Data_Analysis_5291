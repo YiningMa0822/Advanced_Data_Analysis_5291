{
 "cells": [
  {
   "cell_type": "code",
   "execution_count": 13,
   "metadata": {},
   "outputs": [],
   "source": [
    "import pandas as pd\n",
    "\n",
    "# Read the csv files\n",
    "x_train_scale = pd.read_csv('x_train_scale.csv')\n",
    "y_train_scale = pd.read_csv('y_train_scale.csv')"
   ]
  },
  {
   "cell_type": "code",
   "execution_count": 14,
   "metadata": {},
   "outputs": [
    {
     "name": "stdout",
     "output_type": "stream",
     "text": [
      "x_train_scale:\n",
      "   subject#       age  sex  test_time  Jitter(%)  Jitter(Abs)  Jitter:RAP  \\\n",
      "0         6 -0.198540    0  -1.638719   0.619703     0.740882    0.805863   \n",
      "1        40  2.290131    1   0.655123  -0.298646    -0.402497   -0.371813   \n",
      "2        42 -0.424783    0   1.200335  -0.401872    -0.334106   -0.355812   \n",
      "3        20  0.253946    0  -1.517513  -0.341360    -0.450510   -0.269406   \n",
      "4         4  1.045796    0   0.280279   0.011030    -0.013089    0.060215   \n",
      "\n",
      "   Jitter:PPQ5  Jitter:DDP   Shimmer  Shimmer(dB)  Shimmer:APQ3  Shimmer:APQ5  \\\n",
      "0     0.477598    0.805846  0.386256     0.327007      0.627476      0.221878   \n",
      "1    -0.324201   -0.370755  0.008842    -0.054711      0.000760      0.096563   \n",
      "2    -0.302748   -0.356888 -0.303740    -0.384378     -0.273194     -0.258995   \n",
      "3    -0.283977   -0.270483 -0.366642    -0.349676     -0.345998     -0.333344   \n",
      "4    -0.026543    0.061270  1.407744     1.424449      1.646735      1.797604   \n",
      "\n",
      "   Shimmer:APQ11  Shimmer:DDA       NHR       HNR      RPDE       DFA  \\\n",
      "0       0.176381     0.627731  0.865211 -1.501928  1.094804  0.152882   \n",
      "1       0.088192     0.000516 -0.171078  0.141061  0.563995 -0.647206   \n",
      "2      -0.311665    -0.273187 -0.395026  0.396319 -0.975836 -0.107599   \n",
      "3      -0.382316    -0.346241 -0.366610  0.872582 -1.650297  1.076994   \n",
      "4       1.713175     1.646738  0.018249 -0.334498 -0.328069  0.337224   \n",
      "\n",
      "        PPE  \n",
      "0  0.460537  \n",
      "1 -0.704918  \n",
      "2 -0.425094  \n",
      "3 -0.357844  \n",
      "4  0.641197  \n",
      "\n",
      "y_train_scale:\n",
      "   total_UPDRS  motor_UPDRS\n",
      "0     0.931864     0.809740\n",
      "1    -0.330508    -0.561949\n",
      "2     0.317205     0.019912\n",
      "3    -1.021484    -1.129467\n",
      "4    -0.257937    -0.492215\n"
     ]
    }
   ],
   "source": [
    "# Show the first 5 rows of the dataframes\n",
    "print(\"x_train_scale:\")\n",
    "print(x_train_scale.head())\n",
    "print(\"\\ny_train_scale:\")\n",
    "print(y_train_scale.head())"
   ]
  },
  {
   "cell_type": "code",
   "execution_count": 6,
   "metadata": {},
   "outputs": [
    {
     "name": "stdout",
     "output_type": "stream",
     "text": [
      "Collecting statsmodels\n",
      "  Downloading statsmodels-0.14.1-cp39-cp39-win_amd64.whl (10.0 MB)\n",
      "Requirement already satisfied: numpy<2,>=1.18 in d:\\python\\lib\\site-packages (from statsmodels) (1.25.2)\n",
      "Requirement already satisfied: pandas!=2.1.0,>=1.0 in d:\\python\\lib\\site-packages (from statsmodels) (2.1.1)\n",
      "Collecting scipy!=1.9.2,>=1.4\n",
      "  Downloading scipy-1.13.0-cp39-cp39-win_amd64.whl (46.2 MB)\n",
      "Collecting patsy>=0.5.4\n",
      "  Downloading patsy-0.5.6-py2.py3-none-any.whl (233 kB)\n",
      "Requirement already satisfied: packaging>=21.3 in c:\\users\\asus\\appdata\\roaming\\python\\python39\\site-packages (from statsmodels) (24.0)\n",
      "Requirement already satisfied: pytz>=2020.1 in d:\\python\\lib\\site-packages (from pandas!=2.1.0,>=1.0->statsmodels) (2023.3.post1)\n",
      "Requirement already satisfied: python-dateutil>=2.8.2 in d:\\python\\lib\\site-packages (from pandas!=2.1.0,>=1.0->statsmodels) (2.8.2)\n",
      "Requirement already satisfied: tzdata>=2022.1 in d:\\python\\lib\\site-packages (from pandas!=2.1.0,>=1.0->statsmodels) (2023.3)\n",
      "Requirement already satisfied: six in d:\\python\\lib\\site-packages (from patsy>=0.5.4->statsmodels) (1.16.0)\n",
      "Installing collected packages: scipy, patsy, statsmodels\n",
      "Successfully installed patsy-0.5.6 scipy-1.13.0 statsmodels-0.14.1\n",
      "Note: you may need to restart the kernel to use updated packages.\n"
     ]
    },
    {
     "name": "stderr",
     "output_type": "stream",
     "text": [
      "WARNING: You are using pip version 20.2.3; however, version 24.0 is available.\n",
      "You should consider upgrading via the 'd:\\Python\\python.exe -m pip install --upgrade pip' command.\n"
     ]
    }
   ],
   "source": [
    "# pip install statsmodels"
   ]
  },
  {
   "cell_type": "code",
   "execution_count": 15,
   "metadata": {},
   "outputs": [
    {
     "name": "stdout",
     "output_type": "stream",
     "text": [
      "                            OLS Regression Results                            \n",
      "==============================================================================\n",
      "Dep. Variable:            motor_UPDRS   R-squared:                       0.154\n",
      "Model:                            OLS   Adj. R-squared:                  0.150\n",
      "Method:                 Least Squares   F-statistic:                     44.75\n",
      "Date:                Mon, 08 Apr 2024   Prob (F-statistic):          1.03e-153\n",
      "Time:                        17:35:56   Log-Likelihood:                -6276.7\n",
      "No. Observations:                4700   AIC:                         1.259e+04\n",
      "Df Residuals:                    4680   BIC:                         1.272e+04\n",
      "Df Model:                          19                                         \n",
      "Covariance Type:            nonrobust                                         \n",
      "=================================================================================\n",
      "                    coef    std err          t      P>|t|      [0.025      0.975]\n",
      "---------------------------------------------------------------------------------\n",
      "const             0.0504      0.017      2.949      0.003       0.017       0.084\n",
      "age               0.2030      0.014     14.420      0.000       0.175       0.231\n",
      "sex              -0.1608      0.034     -4.777      0.000      -0.227      -0.095\n",
      "test_time         0.0670      0.014      4.956      0.000       0.040       0.094\n",
      "Jitter(%)         0.1410      0.123      1.142      0.253      -0.101       0.383\n",
      "Jitter(Abs)      -0.2798      0.038     -7.451      0.000      -0.353      -0.206\n",
      "Jitter:RAP      -22.1726     15.472     -1.433      0.152     -52.505       8.159\n",
      "Jitter:PPQ5      -0.1354      0.074     -1.830      0.067      -0.280       0.010\n",
      "Jitter:DDP       22.3358     15.474      1.443      0.149      -8.000      52.672\n",
      "Shimmer           0.4998      0.175      2.851      0.004       0.156       0.844\n",
      "Shimmer(dB)      -0.1601      0.119     -1.348      0.178      -0.393       0.073\n",
      "Shimmer:APQ3    -47.8983     66.446     -0.721      0.471    -178.163      82.367\n",
      "Shimmer:APQ5     -0.2613      0.095     -2.746      0.006      -0.448      -0.075\n",
      "Shimmer:APQ11     0.1640      0.053      3.068      0.002       0.059       0.269\n",
      "Shimmer:DDA      47.5876     66.445      0.716      0.474     -82.676     177.851\n",
      "NHR              -0.0698      0.040     -1.737      0.082      -0.148       0.009\n",
      "HNR              -0.2162      0.031     -6.957      0.000      -0.277      -0.155\n",
      "RPDE              0.0180      0.019      0.928      0.353      -0.020       0.056\n",
      "DFA              -0.2015      0.017    -11.603      0.000      -0.236      -0.167\n",
      "PPE               0.2037      0.028      7.238      0.000       0.149       0.259\n",
      "==============================================================================\n",
      "Omnibus:                      243.996   Durbin-Watson:                   2.006\n",
      "Prob(Omnibus):                  0.000   Jarque-Bera (JB):              112.184\n",
      "Skew:                           0.168   Prob(JB):                     4.36e-25\n",
      "Kurtosis:                       2.321   Cond. No.                     2.34e+04\n",
      "==============================================================================\n",
      "\n",
      "Notes:\n",
      "[1] Standard Errors assume that the covariance matrix of the errors is correctly specified.\n",
      "[2] The condition number is large, 2.34e+04. This might indicate that there are\n",
      "strong multicollinearity or other numerical problems.\n"
     ]
    }
   ],
   "source": [
    "# Do simple linear regression (OLS):\n",
    "import statsmodels.api as sm\n",
    "\n",
    "# Drop column \"subject#\"\n",
    "X = x_train_scale.drop('subject#', axis=1)\n",
    "\n",
    "# Add a constant to the independent variable matrix\n",
    "X_with_const = sm.add_constant(X)\n",
    "\n",
    "# Use \"motor_UPDRS\" as the dependent variable\n",
    "y = y_train_scale['motor_UPDRS']\n",
    "\n",
    "# Fit the model\n",
    "ols_model = sm.OLS(y, X_with_const).fit()\n",
    "\n",
    "# Print the summary\n",
    "print(ols_model.summary())"
   ]
  },
  {
   "cell_type": "markdown",
   "metadata": {},
   "source": [
    "Test results for normality and autocorrelation are shown above (Jarque-Bera test and Durbin-Watson test)."
   ]
  },
  {
   "cell_type": "markdown",
   "metadata": {},
   "source": [
    "Test for heteroskedasticity:"
   ]
  },
  {
   "cell_type": "code",
   "execution_count": 17,
   "metadata": {},
   "outputs": [
    {
     "name": "stdout",
     "output_type": "stream",
     "text": [
      "White test p-value: 2.0952229634089444e-143\n",
      "White test F-statistic p-value: 7.4304080236008e-173\n"
     ]
    }
   ],
   "source": [
    "# White test\n",
    "import statsmodels.stats.diagnostic as sm_diag\n",
    "\n",
    "_, pval, _, f_pval = sm_diag.het_white(ols_model.resid, ols_model.model.exog)\n",
    "print(\"White test p-value:\", pval)\n",
    "print(\"White test F-statistic p-value:\", f_pval)\n"
   ]
  },
  {
   "cell_type": "code",
   "execution_count": 18,
   "metadata": {},
   "outputs": [
    {
     "name": "stdout",
     "output_type": "stream",
     "text": [
      "Breusch-Pagan test p-value: 4.965134517292751e-34\n"
     ]
    }
   ],
   "source": [
    "# Run Breusch-Pagan test\n",
    "_, pval, _, _ = sm_diag.het_breuschpagan(ols_model.resid, ols_model.model.exog)\n",
    "print(\"Breusch-Pagan test p-value:\", pval)\n"
   ]
  }
 ],
 "metadata": {
  "kernelspec": {
   "display_name": "Python 3",
   "language": "python",
   "name": "python3"
  },
  "language_info": {
   "codemirror_mode": {
    "name": "ipython",
    "version": 3
   },
   "file_extension": ".py",
   "mimetype": "text/x-python",
   "name": "python",
   "nbconvert_exporter": "python",
   "pygments_lexer": "ipython3",
   "version": "3.9.2"
  }
 },
 "nbformat": 4,
 "nbformat_minor": 2
}
