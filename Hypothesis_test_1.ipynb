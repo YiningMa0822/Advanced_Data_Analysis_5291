{
 "cells": [
  {
   "cell_type": "code",
   "execution_count": 1,
   "metadata": {},
   "outputs": [],
   "source": [
    "import pandas as pd\n",
    "\n",
    "# Read the csv files\n",
    "x_train_scale = pd.read_csv('x_train_scale.csv')\n",
    "y_train_scale = pd.read_csv('y_train_scale.csv')"
   ]
  },
  {
   "cell_type": "code",
   "execution_count": 2,
   "metadata": {},
   "outputs": [
    {
     "name": "stdout",
     "output_type": "stream",
     "text": [
      "x_train_scale:\n",
      "   subject#       age  sex  test_time  Jitter(%)  Jitter(Abs)  Jitter:RAP  \\\n",
      "0         6 -0.198540    0  -1.638719   0.619703     0.740882    0.805863   \n",
      "1        40  2.290131    1   0.655123  -0.298646    -0.402497   -0.371813   \n",
      "2        42 -0.424783    0   1.200335  -0.401872    -0.334106   -0.355812   \n",
      "3        20  0.253946    0  -1.517513  -0.341360    -0.450510   -0.269406   \n",
      "4         4  1.045796    0   0.280279   0.011030    -0.013089    0.060215   \n",
      "\n",
      "   Jitter:PPQ5  Jitter:DDP   Shimmer  Shimmer(dB)  Shimmer:APQ3  Shimmer:APQ5  \\\n",
      "0     0.477598    0.805846  0.386256     0.327007      0.627476      0.221878   \n",
      "1    -0.324201   -0.370755  0.008842    -0.054711      0.000760      0.096563   \n",
      "2    -0.302748   -0.356888 -0.303740    -0.384378     -0.273194     -0.258995   \n",
      "3    -0.283977   -0.270483 -0.366642    -0.349676     -0.345998     -0.333344   \n",
      "4    -0.026543    0.061270  1.407744     1.424449      1.646735      1.797604   \n",
      "\n",
      "   Shimmer:APQ11  Shimmer:DDA       NHR       HNR      RPDE       DFA  \\\n",
      "0       0.176381     0.627731  0.865211 -1.501928  1.094804  0.152882   \n",
      "1       0.088192     0.000516 -0.171078  0.141061  0.563995 -0.647206   \n",
      "2      -0.311665    -0.273187 -0.395026  0.396319 -0.975836 -0.107599   \n",
      "3      -0.382316    -0.346241 -0.366610  0.872582 -1.650297  1.076994   \n",
      "4       1.713175     1.646738  0.018249 -0.334498 -0.328069  0.337224   \n",
      "\n",
      "        PPE  \n",
      "0  0.460537  \n",
      "1 -0.704918  \n",
      "2 -0.425094  \n",
      "3 -0.357844  \n",
      "4  0.641197  \n",
      "\n",
      "y_train_scale:\n",
      "   total_UPDRS  motor_UPDRS\n",
      "0     0.931864     0.809740\n",
      "1    -0.330508    -0.561949\n",
      "2     0.317205     0.019912\n",
      "3    -1.021484    -1.129467\n",
      "4    -0.257937    -0.492215\n"
     ]
    }
   ],
   "source": [
    "# Show the first 5 rows of the dataframes\n",
    "print(\"x_train_scale:\")\n",
    "print(x_train_scale.head())\n",
    "print(\"\\ny_train_scale:\")\n",
    "print(y_train_scale.head())"
   ]
  },
  {
   "cell_type": "code",
   "execution_count": 3,
   "metadata": {},
   "outputs": [],
   "source": [
    "# pip install statsmodels"
   ]
  },
  {
   "cell_type": "code",
   "execution_count": 7,
   "metadata": {},
   "outputs": [
    {
     "name": "stdout",
     "output_type": "stream",
     "text": [
      "                            OLS Regression Results                            \n",
      "==============================================================================\n",
      "Dep. Variable:            motor_UPDRS   R-squared:                       0.149\n",
      "Model:                            OLS   Adj. R-squared:                  0.146\n",
      "Method:                 Least Squares   F-statistic:                     45.64\n",
      "Date:                Tue, 09 Apr 2024   Prob (F-statistic):          2.46e-149\n",
      "Time:                        16:38:12   Log-Likelihood:                -6289.0\n",
      "No. Observations:                4700   AIC:                         1.262e+04\n",
      "Df Residuals:                    4681   BIC:                         1.274e+04\n",
      "Df Model:                          18                                         \n",
      "Covariance Type:            nonrobust                                         \n",
      "=================================================================================\n",
      "                    coef    std err          t      P>|t|      [0.025      0.975]\n",
      "---------------------------------------------------------------------------------\n",
      "const             0.0504      0.017      2.940      0.003       0.017       0.084\n",
      "age               0.2046      0.014     14.499      0.000       0.177       0.232\n",
      "sex              -0.1608      0.034     -4.763      0.000      -0.227      -0.095\n",
      "Jitter(%)         0.1423      0.124      1.150      0.250      -0.100       0.385\n",
      "Jitter(Abs)      -0.2760      0.038     -7.334      0.000      -0.350      -0.202\n",
      "Jitter:RAP      -22.8009     15.510     -1.470      0.142     -53.208       7.606\n",
      "Jitter:PPQ5      -0.1257      0.074     -1.695      0.090      -0.271       0.020\n",
      "Jitter:DDP       22.9491     15.512      1.479      0.139      -7.462      53.360\n",
      "Shimmer           0.4937      0.176      2.809      0.005       0.149       0.838\n",
      "Shimmer(dB)      -0.1564      0.119     -1.314      0.189      -0.390       0.077\n",
      "Shimmer:APQ3    -55.4490     66.595     -0.833      0.405    -186.007      75.109\n",
      "Shimmer:APQ5     -0.2732      0.095     -2.864      0.004      -0.460      -0.086\n",
      "Shimmer:APQ11     0.1623      0.054      3.029      0.002       0.057       0.267\n",
      "Shimmer:DDA      55.1525     66.595      0.828      0.408     -75.404     185.709\n",
      "NHR              -0.0668      0.040     -1.660      0.097      -0.146       0.012\n",
      "HNR              -0.2095      0.031     -6.731      0.000      -0.271      -0.149\n",
      "RPDE              0.0159      0.019      0.819      0.413      -0.022       0.054\n",
      "DFA              -0.1994      0.017    -11.459      0.000      -0.234      -0.165\n",
      "PPE               0.2085      0.028      7.392      0.000       0.153       0.264\n",
      "==============================================================================\n",
      "Omnibus:                      214.107   Durbin-Watson:                   2.010\n",
      "Prob(Omnibus):                  0.000   Jarque-Bera (JB):              103.762\n",
      "Skew:                           0.164   Prob(JB):                     2.94e-23\n",
      "Kurtosis:                       2.350   Cond. No.                     2.34e+04\n",
      "==============================================================================\n",
      "\n",
      "Notes:\n",
      "[1] Standard Errors assume that the covariance matrix of the errors is correctly specified.\n",
      "[2] The condition number is large, 2.34e+04. This might indicate that there are\n",
      "strong multicollinearity or other numerical problems.\n"
     ]
    }
   ],
   "source": [
    "# Do simple linear regression (OLS):\n",
    "import statsmodels.api as sm\n",
    "\n",
    "# Drop column \"subject#\" and \"test_time\" from the independent variable matrix\n",
    "X = x_train_scale.drop(['subject#', 'test_time'], axis=1)\n",
    "\n",
    "# Add a constant to the independent variable matrix\n",
    "X_with_const = sm.add_constant(X)\n",
    "\n",
    "# Use \"motor_UPDRS\" as the dependent variable\n",
    "y = y_train_scale['motor_UPDRS']\n",
    "\n",
    "# Fit the model\n",
    "ols_model_motor = sm.OLS(y, X_with_const).fit()\n",
    "\n",
    "# Print the summary\n",
    "print(ols_model_motor.summary())"
   ]
  },
  {
   "cell_type": "markdown",
   "metadata": {},
   "source": [
    "Test results for normality and autocorrelation are shown above (Jarque-Bera test and Durbin-Watson test)."
   ]
  },
  {
   "cell_type": "markdown",
   "metadata": {},
   "source": [
    "Test for heteroskedasticity:"
   ]
  },
  {
   "cell_type": "code",
   "execution_count": 8,
   "metadata": {},
   "outputs": [
    {
     "name": "stdout",
     "output_type": "stream",
     "text": [
      "White test p-value: 2.7912638602429617e-116\n",
      "White test F-statistic p-value: 8.286013025490796e-136\n"
     ]
    }
   ],
   "source": [
    "# White test\n",
    "import statsmodels.stats.diagnostic as sm_diag\n",
    "\n",
    "_, pval, _, f_pval = sm_diag.het_white(ols_model_motor.resid, ols_model_motor.model.exog)\n",
    "print(\"White test p-value:\", pval)\n",
    "print(\"White test F-statistic p-value:\", f_pval)\n"
   ]
  },
  {
   "cell_type": "code",
   "execution_count": 9,
   "metadata": {},
   "outputs": [
    {
     "name": "stdout",
     "output_type": "stream",
     "text": [
      "Breusch-Pagan test p-value: 5.1236541887322196e-33\n"
     ]
    }
   ],
   "source": [
    "# Run Breusch-Pagan test\n",
    "_, pval, _, _ = sm_diag.het_breuschpagan(ols_model_motor.resid, ols_model_motor.model.exog)\n",
    "print(\"Breusch-Pagan test p-value:\", pval)\n"
   ]
  },
  {
   "cell_type": "code",
   "execution_count": 10,
   "metadata": {},
   "outputs": [
    {
     "name": "stdout",
     "output_type": "stream",
     "text": [
      "                            OLS Regression Results                            \n",
      "==============================================================================\n",
      "Dep. Variable:            total_UPDRS   R-squared:                       0.172\n",
      "Model:                            OLS   Adj. R-squared:                  0.169\n",
      "Method:                 Least Squares   F-statistic:                     54.11\n",
      "Date:                Tue, 09 Apr 2024   Prob (F-statistic):          1.28e-176\n",
      "Time:                        16:45:43   Log-Likelihood:                -6224.8\n",
      "No. Observations:                4700   AIC:                         1.249e+04\n",
      "Df Residuals:                    4681   BIC:                         1.261e+04\n",
      "Df Model:                          18                                         \n",
      "Covariance Type:            nonrobust                                         \n",
      "=================================================================================\n",
      "                    coef    std err          t      P>|t|      [0.025      0.975]\n",
      "---------------------------------------------------------------------------------\n",
      "const             0.0872      0.017      5.157      0.000       0.054       0.120\n",
      "age               0.2494      0.014     17.919      0.000       0.222       0.277\n",
      "sex              -0.2782      0.033     -8.354      0.000      -0.343      -0.213\n",
      "Jitter(%)        -0.0411      0.122     -0.337      0.736      -0.280       0.198\n",
      "Jitter(Abs)      -0.2074      0.037     -5.585      0.000      -0.280      -0.135\n",
      "Jitter:RAP      -16.7644     15.300     -1.096      0.273     -46.759      13.230\n",
      "Jitter:PPQ5      -0.0869      0.073     -1.188      0.235      -0.230       0.057\n",
      "Jitter:DDP       17.0236     15.302      1.113      0.266     -12.975      47.022\n",
      "Shimmer           0.4082      0.173      2.354      0.019       0.068       0.748\n",
      "Shimmer(dB)      -0.1690      0.117     -1.439      0.150      -0.399       0.061\n",
      "Shimmer:APQ3    -82.7594     65.691     -1.260      0.208    -211.546      46.027\n",
      "Shimmer:APQ5     -0.1310      0.094     -1.392      0.164      -0.315       0.053\n",
      "Shimmer:APQ11     0.0885      0.053      1.674      0.094      -0.015       0.192\n",
      "Shimmer:DDA      82.4596     65.691      1.255      0.209     -46.325     211.245\n",
      "NHR              -0.0791      0.040     -1.992      0.046      -0.157      -0.001\n",
      "HNR              -0.2396      0.031     -7.804      0.000      -0.300      -0.179\n",
      "RPDE              0.0499      0.019      2.601      0.009       0.012       0.087\n",
      "DFA              -0.2046      0.017    -11.918      0.000      -0.238      -0.171\n",
      "PPE               0.1603      0.028      5.762      0.000       0.106       0.215\n",
      "==============================================================================\n",
      "Omnibus:                      116.681   Durbin-Watson:                   2.015\n",
      "Prob(Omnibus):                  0.000   Jarque-Bera (JB):              118.479\n",
      "Skew:                           0.366   Prob(JB):                     1.87e-26\n",
      "Kurtosis:                       2.736   Cond. No.                     2.34e+04\n",
      "==============================================================================\n",
      "\n",
      "Notes:\n",
      "[1] Standard Errors assume that the covariance matrix of the errors is correctly specified.\n",
      "[2] The condition number is large, 2.34e+04. This might indicate that there are\n",
      "strong multicollinearity or other numerical problems.\n"
     ]
    }
   ],
   "source": [
    "# Use \"total_UPDRS\" as the dependent variable\n",
    "y = y_train_scale['total_UPDRS']\n",
    "\n",
    "# Fit the model\n",
    "ols_model_total = sm.OLS(y, X_with_const).fit()\n",
    "\n",
    "# Print the summary\n",
    "print(ols_model_total.summary())"
   ]
  },
  {
   "cell_type": "markdown",
   "metadata": {},
   "source": [
    "Test results for normality and autocorrelation are shown above (Jarque-Bera test and Durbin-Watson test)."
   ]
  },
  {
   "cell_type": "markdown",
   "metadata": {},
   "source": [
    "Test for heteroskedasticity:"
   ]
  },
  {
   "cell_type": "code",
   "execution_count": 11,
   "metadata": {},
   "outputs": [
    {
     "name": "stdout",
     "output_type": "stream",
     "text": [
      "White test p-value: 6.910923555266251e-153\n",
      "White test F-statistic p-value: 5.315329492315364e-184\n"
     ]
    }
   ],
   "source": [
    "# White test\n",
    "import statsmodels.stats.diagnostic as sm_diag\n",
    "\n",
    "_, pval, _, f_pval = sm_diag.het_white(ols_model_total.resid, ols_model_total.model.exog)\n",
    "print(\"White test p-value:\", pval)\n",
    "print(\"White test F-statistic p-value:\", f_pval)\n"
   ]
  },
  {
   "cell_type": "code",
   "execution_count": 12,
   "metadata": {},
   "outputs": [
    {
     "name": "stdout",
     "output_type": "stream",
     "text": [
      "Breusch-Pagan test p-value: 5.1236541887322196e-33\n"
     ]
    }
   ],
   "source": [
    "# Run Breusch-Pagan test\n",
    "_, pval, _, _ = sm_diag.het_breuschpagan(ols_model_motor.resid, ols_model_motor.model.exog)\n",
    "print(\"Breusch-Pagan test p-value:\", pval)\n"
   ]
  }
 ],
 "metadata": {
  "kernelspec": {
   "display_name": "Python 3",
   "language": "python",
   "name": "python3"
  },
  "language_info": {
   "codemirror_mode": {
    "name": "ipython",
    "version": 3
   },
   "file_extension": ".py",
   "mimetype": "text/x-python",
   "name": "python",
   "nbconvert_exporter": "python",
   "pygments_lexer": "ipython3",
   "version": "3.9.2"
  }
 },
 "nbformat": 4,
 "nbformat_minor": 2
}
